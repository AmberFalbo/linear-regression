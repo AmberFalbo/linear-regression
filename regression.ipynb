{
 "metadata": {
  "language_info": {
   "codemirror_mode": {
    "name": "ipython",
    "version": 3
   },
   "file_extension": ".py",
   "mimetype": "text/x-python",
   "name": "python",
   "nbconvert_exporter": "python",
   "pygments_lexer": "ipython3",
   "version": "3.9.0-final"
  },
  "orig_nbformat": 2,
  "kernelspec": {
   "name": "python3",
   "display_name": "Python 3",
   "language": "python"
  }
 },
 "nbformat": 4,
 "nbformat_minor": 2,
 "cells": [
  {
   "cell_type": "code",
   "execution_count": 1,
   "metadata": {},
   "outputs": [],
   "source": [
    "import pandas as pd\n",
    "import numpy as np\n",
    "%matplotlib inline\n",
    "import matplotlib.pyplot as plt\n",
    "from sklearn.linear_model import LinearRegression\n",
    "from sklearn.model_selection import train_test_split"
   ]
  },
  {
   "cell_type": "code",
   "execution_count": 3,
   "metadata": {},
   "outputs": [
    {
     "output_type": "execute_result",
     "data": {
      "text/plain": [
       "                                               title mediaType   eps  \\\n",
       "0                   Fullmetal Alchemist: Brotherhood        TV  64.0   \n",
       "1                                         your name.     Movie   1.0   \n",
       "2                                     A Silent Voice     Movie   1.0   \n",
       "3  Haikyuu!! Karasuno High School vs Shiratorizaw...        TV  10.0   \n",
       "4                Attack on Titan 3rd Season: Part II        TV  10.0   \n",
       "\n",
       "   duration  ongoing  startYr  finishYr sznOfRelease  \\\n",
       "0       NaN    False   2009.0    2010.0       Spring   \n",
       "1     107.0    False   2016.0    2016.0          NaN   \n",
       "2     130.0    False   2016.0    2016.0          NaN   \n",
       "3       NaN    False   2016.0    2016.0         Fall   \n",
       "4       NaN    False   2019.0    2019.0       Spring   \n",
       "\n",
       "                                         description               studios  \\\n",
       "0  The foundation of alchemy is based on the law ...             ['Bones']   \n",
       "1  Mitsuha and Taki are two total strangers livin...  ['CoMix Wave Films']   \n",
       "2  After transferring into a new school, a deaf g...   ['Kyoto Animation']   \n",
       "3  Picking up where the second season ended, the ...    ['Production I.G']   \n",
       "4  The battle to retake Wall Maria begins now! Wi...        ['Wit Studio']   \n",
       "\n",
       "                                                tags  \\\n",
       "0  ['Action', 'Adventure', 'Drama', 'Fantasy', 'M...   \n",
       "1  ['Drama', 'Romance', 'Body Swapping', 'Gender ...   \n",
       "2  ['Drama', 'Shounen', 'Disability', 'Melancholy...   \n",
       "3  ['Shounen', 'Sports', 'Animeism', 'School Club...   \n",
       "4  ['Action', 'Fantasy', 'Horror', 'Shounen', 'Da...   \n",
       "\n",
       "                                         contentWarn   watched  watching  \\\n",
       "0  ['Animal Abuse', 'Mature Themes', 'Violence', ...  103707.0     14351   \n",
       "1                                                 []   58831.0      1453   \n",
       "2           ['Bullying', 'Mature Themes', 'Suicide']   45892.0       946   \n",
       "3                                                 []   25134.0      2183   \n",
       "4               ['Cannibalism', 'Explicit Violence']   21308.0      3217   \n",
       "\n",
       "   wantWatch  dropped  rating    votes  \n",
       "0      25810     2656   4.702  86547.0  \n",
       "1      21733      124   4.663  43960.0  \n",
       "2      17148      132   4.661  33752.0  \n",
       "3       8082      167   4.660  17422.0  \n",
       "4       7864      174   4.650  15789.0  "
      ],
      "text/html": "<div>\n<style scoped>\n    .dataframe tbody tr th:only-of-type {\n        vertical-align: middle;\n    }\n\n    .dataframe tbody tr th {\n        vertical-align: top;\n    }\n\n    .dataframe thead th {\n        text-align: right;\n    }\n</style>\n<table border=\"1\" class=\"dataframe\">\n  <thead>\n    <tr style=\"text-align: right;\">\n      <th></th>\n      <th>title</th>\n      <th>mediaType</th>\n      <th>eps</th>\n      <th>duration</th>\n      <th>ongoing</th>\n      <th>startYr</th>\n      <th>finishYr</th>\n      <th>sznOfRelease</th>\n      <th>description</th>\n      <th>studios</th>\n      <th>tags</th>\n      <th>contentWarn</th>\n      <th>watched</th>\n      <th>watching</th>\n      <th>wantWatch</th>\n      <th>dropped</th>\n      <th>rating</th>\n      <th>votes</th>\n    </tr>\n  </thead>\n  <tbody>\n    <tr>\n      <th>0</th>\n      <td>Fullmetal Alchemist: Brotherhood</td>\n      <td>TV</td>\n      <td>64.0</td>\n      <td>NaN</td>\n      <td>False</td>\n      <td>2009.0</td>\n      <td>2010.0</td>\n      <td>Spring</td>\n      <td>The foundation of alchemy is based on the law ...</td>\n      <td>['Bones']</td>\n      <td>['Action', 'Adventure', 'Drama', 'Fantasy', 'M...</td>\n      <td>['Animal Abuse', 'Mature Themes', 'Violence', ...</td>\n      <td>103707.0</td>\n      <td>14351</td>\n      <td>25810</td>\n      <td>2656</td>\n      <td>4.702</td>\n      <td>86547.0</td>\n    </tr>\n    <tr>\n      <th>1</th>\n      <td>your name.</td>\n      <td>Movie</td>\n      <td>1.0</td>\n      <td>107.0</td>\n      <td>False</td>\n      <td>2016.0</td>\n      <td>2016.0</td>\n      <td>NaN</td>\n      <td>Mitsuha and Taki are two total strangers livin...</td>\n      <td>['CoMix Wave Films']</td>\n      <td>['Drama', 'Romance', 'Body Swapping', 'Gender ...</td>\n      <td>[]</td>\n      <td>58831.0</td>\n      <td>1453</td>\n      <td>21733</td>\n      <td>124</td>\n      <td>4.663</td>\n      <td>43960.0</td>\n    </tr>\n    <tr>\n      <th>2</th>\n      <td>A Silent Voice</td>\n      <td>Movie</td>\n      <td>1.0</td>\n      <td>130.0</td>\n      <td>False</td>\n      <td>2016.0</td>\n      <td>2016.0</td>\n      <td>NaN</td>\n      <td>After transferring into a new school, a deaf g...</td>\n      <td>['Kyoto Animation']</td>\n      <td>['Drama', 'Shounen', 'Disability', 'Melancholy...</td>\n      <td>['Bullying', 'Mature Themes', 'Suicide']</td>\n      <td>45892.0</td>\n      <td>946</td>\n      <td>17148</td>\n      <td>132</td>\n      <td>4.661</td>\n      <td>33752.0</td>\n    </tr>\n    <tr>\n      <th>3</th>\n      <td>Haikyuu!! Karasuno High School vs Shiratorizaw...</td>\n      <td>TV</td>\n      <td>10.0</td>\n      <td>NaN</td>\n      <td>False</td>\n      <td>2016.0</td>\n      <td>2016.0</td>\n      <td>Fall</td>\n      <td>Picking up where the second season ended, the ...</td>\n      <td>['Production I.G']</td>\n      <td>['Shounen', 'Sports', 'Animeism', 'School Club...</td>\n      <td>[]</td>\n      <td>25134.0</td>\n      <td>2183</td>\n      <td>8082</td>\n      <td>167</td>\n      <td>4.660</td>\n      <td>17422.0</td>\n    </tr>\n    <tr>\n      <th>4</th>\n      <td>Attack on Titan 3rd Season: Part II</td>\n      <td>TV</td>\n      <td>10.0</td>\n      <td>NaN</td>\n      <td>False</td>\n      <td>2019.0</td>\n      <td>2019.0</td>\n      <td>Spring</td>\n      <td>The battle to retake Wall Maria begins now! Wi...</td>\n      <td>['Wit Studio']</td>\n      <td>['Action', 'Fantasy', 'Horror', 'Shounen', 'Da...</td>\n      <td>['Cannibalism', 'Explicit Violence']</td>\n      <td>21308.0</td>\n      <td>3217</td>\n      <td>7864</td>\n      <td>174</td>\n      <td>4.650</td>\n      <td>15789.0</td>\n    </tr>\n  </tbody>\n</table>\n</div>"
     },
     "metadata": {},
     "execution_count": 3
    }
   ],
   "source": [
    "anime = pd.read_csv('anime.csv')\n",
    "anime.head()"
   ]
  },
  {
   "cell_type": "code",
   "execution_count": null,
   "metadata": {},
   "outputs": [],
   "source": []
  }
 ]
}